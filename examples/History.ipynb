{
 "cells": [
  {
   "cell_type": "markdown",
   "id": "9244ed0e-4edf-44f6-ab40-23d1ac7bb138",
   "metadata": {
    "slideshow": {
     "slide_type": "subslide"
    },
    "tags": []
   },
   "source": [
    "## A Brief History of Presenting with Jupyter\n",
    "\n",
    "> [Back to the main Deck](./README.ipynb)"
   ]
  },
  {
   "cell_type": "markdown",
   "id": "efb4c977-9e95-4027-a2ee-e65a002f4eb6",
   "metadata": {
    "slideshow": {
     "slide_type": "fragment"
    },
    "tags": []
   },
   "source": [
    "- presenting from a \"cold\" Jupyter UI is often **distracting** for the audience"
   ]
  },
  {
   "cell_type": "markdown",
   "id": "864a5df8-2cb8-4125-95df-fe466df6b3ac",
   "metadata": {
    "slideshow": {
     "slide_type": "fragment"
    },
    "tags": []
   },
   "source": [
    "- much of this is based on content (walls of text) and presenter choices (browser/OS chrome, zoom)"
   ]
  },
  {
   "cell_type": "markdown",
   "id": "0e5e171c-6eb3-4071-a519-44d658360dde",
   "metadata": {
    "slideshow": {
     "slide_type": "slide"
    },
    "tags": []
   },
   "source": [
    "## There Had to Be A Better Way"
   ]
  },
  {
   "cell_type": "markdown",
   "id": "3442bdb6-0cf1-46e3-906f-8a1a121f5af7",
   "metadata": {
    "slideshow": {
     "slide_type": "fragment"
    },
    "tags": []
   },
   "source": [
    "- a `reveal.js` template was added to `nbconvert` for **static** representations of slides\n",
    "  - it normalized the `slide_type` metadata as part of the Jupyter Notebook JSON Schema"
   ]
  },
  {
   "cell_type": "markdown",
   "id": "ad1c1ae9-e67b-4bfe-bf9a-b8f79d7608e3",
   "metadata": {
    "slideshow": {
     "slide_type": "fragment"
    },
    "tags": []
   },
   "source": [
    "- `RISE` built on this behavior, allowing inline **editing** and **execution**"
   ]
  },
  {
   "cell_type": "markdown",
   "id": "2932ec42-4481-438a-8ccc-b657e8112c17",
   "metadata": {
    "slideshow": {
     "slide_type": "fragment"
    },
    "tags": []
   },
   "source": [
    "- **however**, `reveal.js` (and therefore `RISE`) have **extremely opinionated** CSS and DOM\n",
    "  - these have been hard to adapt to the multi-document JupyterLab UI"
   ]
  },
  {
   "cell_type": "markdown",
   "id": "4d66378f-9172-4e45-a8ca-2503a56462f8",
   "metadata": {
    "slideshow": {
     "slide_type": "subslide"
    },
    "tags": []
   },
   "source": [
    "## <i class=\"fa fa-gift\"></a> `nbpresent`"
   ]
  },
  {
   "cell_type": "markdown",
   "id": "5050bc03-2d12-43f0-a6b6-4597a6fe8aa7",
   "metadata": {
    "slideshow": {
     "slide_type": "fragment"
    },
    "tags": []
   },
   "source": [
    "- `nbpresent` went _way_ off the beaten path, offering **extensive** layout and theme options"
   ]
  },
  {
   "cell_type": "markdown",
   "id": "fabe8dfe-a1a3-4847-b137-19050e8887ed",
   "metadata": {
    "slideshow": {
     "slide_type": "fragment"
    },
    "tags": []
   },
   "source": [
    "- we did build some [pretty cool demos](https://bl.ocks.org/bollwyvl/raw/00f85276fbd9b36e2868cfe74bbc788e/?raw=true), though"
   ]
  },
  {
   "cell_type": "markdown",
   "id": "d52cc393-d843-4388-9b19-2ca1660395b1",
   "metadata": {
    "slideshow": {
     "slide_type": "fragment"
    },
    "tags": []
   },
   "source": [
    "- while somewhat compatible with `nbconvert`'s metadata, it's advanced features required unique metadata"
   ]
  },
  {
   "cell_type": "markdown",
   "id": "6b5e5bf2-e29d-4b09-b984-60d502404514",
   "metadata": {
    "slideshow": {
     "slide_type": "fragment"
    },
    "tags": []
   },
   "source": [
    "- it has now been mostly abandoned"
   ]
  },
  {
   "cell_type": "markdown",
   "id": "8478a5f3-5b46-4ccc-a240-fe476e49c629",
   "metadata": {
    "slideshow": {
     "slide_type": "slide"
    },
    "tags": []
   },
   "source": [
    "## So... `jupyterlab-deck`\n",
    "\n",
    "- `jupyterlab-deck` is an attempt to combine \n",
    "  - the **presentation-focused** features of `RISE` \n",
    "  - the **full JupyterLab** experience\n",
    " \n",
    "```{hint}\n",
    "[Back to the main Deck](./README.ipynb)\n",
    "```"
   ]
  }
 ],
 "metadata": {
  "kernelspec": {
   "display_name": "Python 3 (ipykernel)",
   "language": "python",
   "name": "python3"
  },
  "language_info": {
   "codemirror_mode": {
    "name": "ipython",
    "version": 3
   },
   "file_extension": ".py",
   "mimetype": "text/x-python",
   "name": "python",
   "nbconvert_exporter": "python",
   "pygments_lexer": "ipython3",
   "version": "3.10.6"
  }
 },
 "nbformat": 4,
 "nbformat_minor": 5
}
