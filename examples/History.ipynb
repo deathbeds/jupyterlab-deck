{
 "cells": [
  {
   "cell_type": "markdown",
   "id": "9244ed0e-4edf-44f6-ab40-23d1ac7bb138",
   "metadata": {
    "slideshow": {
     "slide_type": "subslide"
    },
    "tags": []
   },
   "source": [
    "# A Brief History of Presenting with Jupyter\n",
    "\n",
    "> [Back to the main Deck](./README.ipynb)"
   ]
  },
  {
   "cell_type": "markdown",
   "id": "a588f617-29f9-43e2-9e32-decc24fff11f",
   "metadata": {
    "slideshow": {
     "slide_type": "slide"
    },
    "tags": []
   },
   "source": [
    "## What's the Problem?"
   ]
  },
  {
   "cell_type": "markdown",
   "id": "efb4c977-9e95-4027-a2ee-e65a002f4eb6",
   "metadata": {
    "slideshow": {
     "slide_type": "fragment"
    },
    "tags": []
   },
   "source": [
    "- presenting from a **vanilla** Jupyter UI is often **distracting** for the audience...\n",
    "  - as a tool for _interactive computing_, it has many buttons and unfamiliar words\n",
    "  - as a tool for _publishing_, it has many options"
   ]
  },
  {
   "cell_type": "markdown",
   "id": "27bf6c3a-e5a0-4b1a-afe2-2091acb57251",
   "metadata": {
    "slideshow": {
     "slide_type": "fragment"
    },
    "tags": []
   },
   "source": [
    "- ... often made worse by **content** choices...\n",
    "  - **walls of text**"
   ]
  },
  {
   "cell_type": "markdown",
   "id": "d15ceb78-b0e8-4859-a157-043864c613f5",
   "metadata": {
    "slideshow": {
     "slide_type": "fragment"
    },
    "tags": []
   },
   "source": [
    "- and **presenter** choices...\n",
    "  - leaving browser/OS chrome visible\n",
    "  - using small **font sizes**"
   ]
  },
  {
   "cell_type": "markdown",
   "id": "0e5e171c-6eb3-4071-a519-44d658360dde",
   "metadata": {
    "slideshow": {
     "slide_type": "slide"
    },
    "tags": []
   },
   "source": [
    "## Static Slides"
   ]
  },
  {
   "cell_type": "markdown",
   "id": "f25c8f59-8cf7-419f-a06c-f6533dd21ada",
   "metadata": {
    "slideshow": {
     "slide_type": "fragment"
    },
    "tags": []
   },
   "source": [
    "> `nbconvert 4.0` added a `reveal.js` template for **static** representations of slides"
   ]
  },
  {
   "cell_type": "markdown",
   "id": "e2f957cc-21a0-4bb3-bcfb-384b5212476b",
   "metadata": {
    "slideshow": {
     "slide_type": "fragment"
    },
    "tags": []
   },
   "source": [
    "- it normalized the `slide_type` metadata...\n",
    "  > _though it's **still** not part of the offical Jupyter Notebook JSON Schema_"
   ]
  },
  {
   "cell_type": "markdown",
   "id": "99a57a36-cc3b-4fb7-9b30-1b52a91839d7",
   "metadata": {
    "slideshow": {
     "slide_type": "fragment"
    },
    "tags": []
   },
   "source": [
    "- ...and more or less **forces** some content **discipline**\n",
    "  - extra-long content just **can't be seen**"
   ]
  },
  {
   "cell_type": "markdown",
   "id": "d53932c7-0b7b-46f0-bb29-630b63ccd5b0",
   "metadata": {
    "slideshow": {
     "slide_type": "subslide"
    },
    "tags": []
   },
   "source": [
    "- `nbviewer` adopted this output, making it easier to provide a single, predictable link to a notebook-as-slides\n",
    "\n",
    "> ### But it was still **static**"
   ]
  },
  {
   "cell_type": "markdown",
   "id": "c32b42c6-8b83-41e4-beda-974a1b320f76",
   "metadata": {
    "slideshow": {
     "slide_type": "slide"
    },
    "tags": []
   },
   "source": [
    "## <i class=\"fa fa-bar-chart\"></i> RISE\n",
    "\n",
    "> `RISE` built on the `nbconvert` metdata, allowing inline **editing** and **execution**"
   ]
  },
  {
   "cell_type": "markdown",
   "id": "2f849814-68e2-49f6-92d0-86dd24d4bcde",
   "metadata": {
    "slideshow": {
     "slide_type": "fragment"
    },
    "tags": []
   },
   "source": [
    "- this works great for notebooks in full Jupyter environments like **Binder**"
   ]
  },
  {
   "cell_type": "markdown",
   "id": "2932ec42-4481-438a-8ccc-b657e8112c17",
   "metadata": {
    "slideshow": {
     "slide_type": "fragment"
    },
    "tags": []
   },
   "source": [
    "- **however**, `reveal.js` (and therefore `RISE`) have **extremely opinionated** CSS and DOM\n",
    "  - this made many other notebook extensions hard to use\n",
    "  - these have been hard to adapt to the multi-document JupyterLab UI"
   ]
  },
  {
   "cell_type": "markdown",
   "id": "4d66378f-9172-4e45-a8ca-2503a56462f8",
   "metadata": {
    "slideshow": {
     "slide_type": "subslide"
    },
    "tags": []
   },
   "source": [
    "## <i class=\"fa fa-gift\"></i> nbpresent\n",
    "\n",
    "> `nbpresent` went _way_ off the beaten path, offering extensive **layout** and **theme** options"
   ]
  },
  {
   "cell_type": "markdown",
   "id": "8844ded6-243b-4298-807d-5953f1be17be",
   "metadata": {
    "slideshow": {
     "slide_type": "fragment"
    },
    "tags": []
   },
   "source": [
    "- while somewhat compatible with `nbconvert`'s metadata, it's advanced features required unique metadata"
   ]
  },
  {
   "cell_type": "markdown",
   "id": "fabe8dfe-a1a3-4847-b137-19050e8887ed",
   "metadata": {
    "slideshow": {
     "slide_type": "fragment"
    },
    "tags": []
   },
   "source": [
    "- it could build some [pretty cool demos](https://bl.ocks.org/bollwyvl/raw/00f85276fbd9b36e2868cfe74bbc788e/?raw=true)..."
   ]
  },
  {
   "cell_type": "markdown",
   "id": "6b5e5bf2-e29d-4b09-b984-60d502404514",
   "metadata": {
    "slideshow": {
     "slide_type": "fragment"
    },
    "tags": []
   },
   "source": [
    "- ... but has now been abandoned"
   ]
  },
  {
   "cell_type": "markdown",
   "id": "eee036ed-6002-4f20-b0aa-9ec1b6c8b6af",
   "metadata": {
    "slideshow": {
     "slide_type": "subslide"
    },
    "tags": []
   },
   "source": [
    "## jupyterlab-drawio\n",
    "\n",
    "> `jupyterlab-drawio`"
   ]
  },
  {
   "cell_type": "markdown",
   "id": "f44ac6b1-5fc2-4e07-bf8a-2ea65652aaaf",
   "metadata": {
    "slideshow": {
     "slide_type": "subslide"
    },
    "tags": []
   },
   "source": [
    "## ipydrawio"
   ]
  },
  {
   "cell_type": "markdown",
   "id": "ee94f2a9-f686-437a-862f-7a6de37cc8eb",
   "metadata": {
    "slideshow": {
     "slide_type": "slide"
    },
    "tags": []
   },
   "source": [
    "## jupyterlab-deck\n",
    "\n",
    "> `jupyterlab-deck` is an attempt to combine..."
   ]
  },
  {
   "cell_type": "markdown",
   "id": "51f000fd-597c-4e36-a65f-660ccf385c90",
   "metadata": {
    "slideshow": {
     "slide_type": "fragment"
    },
    "tags": []
   },
   "source": [
    "- a **light** touch on style\n",
    "  - and leaving the rest to **themes** and other **plugins**"
   ]
  },
  {
   "cell_type": "markdown",
   "id": "bb79f4f0-de3e-4e1e-9443-e91bd83fc864",
   "metadata": {
    "slideshow": {
     "slide_type": "fragment"
    },
    "tags": []
   },
   "source": [
    "- the **audience**-focused aesthetic of `RISE`\n",
    "  - and much of its **metadata**"
   ]
  },
  {
   "cell_type": "markdown",
   "id": "1874c964-8d45-4269-8412-7f1199233bfb",
   "metadata": {
    "slideshow": {
     "slide_type": "fragment"
    },
    "tags": []
   },
   "source": [
    "- the **author**-focused, multiple-document workflow of JupyterLab\n",
    "  - and its ecosystem of **composable** extensions"
   ]
  },
  {
   "cell_type": "markdown",
   "id": "e3edc4a1-16c9-43a2-aa00-407908839a91",
   "metadata": {
    "slideshow": {
     "slide_type": "slide"
    },
    "tags": []
   },
   "source": [
    " \n",
    "```{hint}\n",
    "[Back to the main Deck](./README.ipynb)\n",
    "```"
   ]
  },
  {
   "cell_type": "markdown",
   "id": "845ad4e1-e133-459f-9220-9ce0d6415f3a",
   "metadata": {
    "slideshow": {
     "slide_type": "subslide"
    },
    "tags": []
   },
   "source": [
    "## Bibliography\n",
    "\n",
    "- [nbconvert](https://nbconvert.readthedocs.io/en/latest/usage.html#convert-revealjs)\n",
    "- [RISE](https://github.com/damianavila/RISE)\n",
    "- [nbpresent](https://github.com/anaconda-platform/nbpresent)"
   ]
  },
  {
   "cell_type": "markdown",
   "id": "794e2663-70f4-4a62-85c6-5dc0eedeb7d0",
   "metadata": {
    "slideshow": {
     "slide_type": "slide"
    },
    "tags": []
   },
   "source": [
    " \n",
    "```{hint}\n",
    "[Back to the main Deck](./README.ipynb)\n",
    "```"
   ]
  }
 ],
 "metadata": {
  "kernelspec": {
   "display_name": "Python 3 (ipykernel)",
   "language": "python",
   "name": "python3"
  },
  "language_info": {
   "codemirror_mode": {
    "name": "ipython",
    "version": 3
   },
   "file_extension": ".py",
   "mimetype": "text/x-python",
   "name": "python",
   "nbconvert_exporter": "python",
   "pygments_lexer": "ipython3",
   "version": "3.10.6"
  },
  "toc-autonumbering": true
 },
 "nbformat": 4,
 "nbformat_minor": 5
}
