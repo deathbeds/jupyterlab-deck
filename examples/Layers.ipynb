{
 "cells": [
  {
   "cell_type": "markdown",
   "id": "88042b49-dba6-4150-9bb4-bf4597b9fcbb",
   "metadata": {},
   "source": [
    "# Layers\n",
    "\n",
    "> Layers provide a data-driven way to customize a Deck."
   ]
  },
  {
   "cell_type": "markdown",
   "id": "f6e7c90f-9016-4385-a68c-44dec29b6bc3",
   "metadata": {
    "slideshow": {
     "slide_type": "fragment"
    },
    "tags": []
   },
   "source": [
    "- Instead of a `slide`, `subslide` or `fragment`, a cell can be a `layer`"
   ]
  },
  {
   "cell_type": "markdown",
   "id": "1fb76689-8bea-40b0-9dd4-505bdf773e22",
   "metadata": {
    "jupyterlab-deck": {
     "layer": {
      "css": {
       "bottom": 0,
       "width": "100%"
      },
      "scope": "deck"
     }
    },
    "tags": []
   },
   "source": [
    "> Learn more about [jupyterlab-deck](./README.ipynb)"
   ]
  },
  {
   "cell_type": "markdown",
   "id": "a00cd95c-e7ef-4246-b67c-fbabeb13fe7d",
   "metadata": {
    "slideshow": {
     "slide_type": "fragment"
    },
    "tags": []
   },
   "source": [
    "- these are defined in _Cell Metadata_\n",
    "  - the previous cell is a layer that becomes visible as soon as _this_ slide part becomes visible"
   ]
  }
 ],
 "metadata": {
  "kernelspec": {
   "display_name": "Python 3 (ipykernel)",
   "language": "python",
   "name": "python3"
  },
  "language_info": {
   "codemirror_mode": {
    "name": "ipython",
    "version": 3
   },
   "file_extension": ".py",
   "mimetype": "text/x-python",
   "name": "python",
   "nbconvert_exporter": "python",
   "pygments_lexer": "ipython3",
   "version": "3.10.6"
  }
 },
 "nbformat": 4,
 "nbformat_minor": 5
}
