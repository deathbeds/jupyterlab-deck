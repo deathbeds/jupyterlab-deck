{
 "cells": [
  {
   "cell_type": "markdown",
   "id": "88042b49-dba6-4150-9bb4-bf4597b9fcbb",
   "metadata": {},
   "source": [
    "# Layers\n",
    "\n",
    "> Layers provide a data-driven way to customize what's on screen."
   ]
  },
  {
   "cell_type": "markdown",
   "id": "f6e7c90f-9016-4385-a68c-44dec29b6bc3",
   "metadata": {
    "slideshow": {
     "slide_type": "fragment"
    },
    "tags": []
   },
   "source": [
    "- Instead of a `slide`, `subslide` or `fragment`, a cell can be a `layer`"
   ]
  },
  {
   "cell_type": "markdown",
   "id": "a00cd95c-e7ef-4246-b67c-fbabeb13fe7d",
   "metadata": {
    "slideshow": {
     "slide_type": "fragment"
    },
    "tags": []
   },
   "source": [
    "- like `slide_type`, these are defined in _Cell Metadata_\n",
    "  - the next cell is a layer that becomes visible as soon as _this_ slide part becomes visible"
   ]
  },
  {
   "cell_type": "markdown",
   "id": "43e53706-854f-466c-a233-050a430e7f84",
   "metadata": {
    "jupyterlab-deck": {
     "layer": {
      "css": {
       "bottom": 0,
       "left": 0,
       "margin": "auto",
       "opacity": "0.25",
       "pointer-events": "none",
       "right": 0,
       "top": 0,
       "width": "50%",
       "z-index": -1
      },
      "scope": "deck"
     }
    },
    "tags": []
   },
   "source": [
    "<img src=\"./deck.svg\" width=\"100%\">"
   ]
  },
  {
   "cell_type": "markdown",
   "id": "b38c9932-a4ce-4322-a377-f01fe5e68b63",
   "metadata": {
    "slideshow": {
     "slide_type": "slide"
    },
    "tags": []
   },
   "source": [
    "## Scope"
   ]
  },
  {
   "cell_type": "markdown",
   "id": "4a6d9fce-91c8-43b9-ac27-b5df0e888cdf",
   "metadata": {
    "tags": []
   },
   "source": [
    "> - each layer has a `scope`\n",
    ">   - the layer from the previous slide will be visible on **every** successive slide\n",
    ">     - because it had a scope of `deck`"
   ]
  },
  {
   "cell_type": "markdown",
   "id": "d4f73ce1-9b5b-4943-8bb5-2a2698a3af6c",
   "metadata": {
    "slideshow": {
     "slide_type": "fragment"
    },
    "tags": []
   },
   "source": [
    "- below this cell is a `stack`-scoped\n",
    "  - it will show from here until the next `slide`"
   ]
  },
  {
   "cell_type": "markdown",
   "id": "1b673bf4-e73b-4fed-9d9c-245bdecb35a2",
   "metadata": {
    "jupyterlab-deck": {
     "layer": {
      "css": {
       "right": "0",
       "top": "5%",
       "width": "25%",
       "z-index": 1
      },
      "scope": "stack"
     }
    },
    "tags": []
   },
   "source": [
    "```{hint}\n",
    "`stack`-scoped layer with a `top` of `5%`\n",
    "```"
   ]
  },
  {
   "cell_type": "markdown",
   "id": "81e61f68-25ab-41fb-99b4-c498869d683a",
   "metadata": {
    "slideshow": {
     "slide_type": "fragment"
    },
    "tags": []
   },
   "source": [
    "- below this cell is a `slide`-scoped layer, which will only appear on the next slide or subslide"
   ]
  },
  {
   "cell_type": "markdown",
   "id": "7f0da6ff-9da5-453c-8515-88fabeb03582",
   "metadata": {
    "jupyterlab-deck": {
     "layer": {
      "css": {
       "right": "0",
       "top": "30%",
       "width": "25%",
       "z-index": 1
      },
      "scope": "slide"
     }
    },
    "tags": []
   },
   "source": [
    "```{warning}\n",
    "`slide`-scoped layer with a `top` of `30%`\n",
    "```"
   ]
  },
  {
   "cell_type": "markdown",
   "id": "087a001f-488c-401a-a57c-6688b0d9166f",
   "metadata": {
    "slideshow": {
     "slide_type": "fragment"
    },
    "tags": []
   },
   "source": [
    "- below this cell is a `fragment`-scoped layer, which will only appear while viewing this `fragment`"
   ]
  },
  {
   "cell_type": "markdown",
   "id": "706edc2a-ec04-43f4-ab39-09cf78cedd3a",
   "metadata": {
    "jupyterlab-deck": {
     "layer": {
      "css": {
       "right": "0",
       "top": "60%",
       "width": "25%",
       "z-index": 1
      },
      "scope": "fragment"
     }
    },
    "tags": []
   },
   "source": [
    "```{note}\n",
    "`fragment`-scoped layer with a `top` of `60%`\n",
    "```"
   ]
  },
  {
   "cell_type": "markdown",
   "id": "5e8fc3be-bc91-4c6f-a9be-a0d535b219de",
   "metadata": {
    "slideshow": {
     "slide_type": "subslide"
    },
    "tags": []
   },
   "source": [
    "## Another Slide\n",
    "\n",
    "> Nothing to see here, other than a few layers"
   ]
  },
  {
   "cell_type": "markdown",
   "id": "b9c41a6b-0bce-4712-86b6-f390faa5e5c9",
   "metadata": {
    "slideshow": {
     "slide_type": "slide"
    },
    "tags": []
   },
   "source": [
    "# CSS\n",
    "\n",
    "> Some key `jupyterlab-deck.css` properties control the appearance of layers:"
   ]
  },
  {
   "cell_type": "markdown",
   "id": "95e9e3a0-983d-4df9-b275-9bea7480aabd",
   "metadata": {
    "slideshow": {
     "slide_type": "fragment"
    },
    "tags": []
   },
   "source": [
    "- `top`, `bottom`, `right`, `left`, `width` and `height` do what they say\n",
    "  - using relative values, `0` to `100%`, is the most reliable"
   ]
  },
  {
   "cell_type": "markdown",
   "id": "e869fc9f-8149-48f3-8c22-b3658a23b83d",
   "metadata": {
    "slideshow": {
     "slide_type": "fragment"
    },
    "tags": []
   },
   "source": [
    "- set `z-index` to change how items **stack**"
   ]
  },
  {
   "cell_type": "markdown",
   "id": "7c6b7905-e66c-4335-9327-b1ba557271bc",
   "metadata": {},
   "source": [
    "- set `margin` to `auto` to **center** things"
   ]
  },
  {
   "cell_type": "markdown",
   "id": "ecc0c25e-51fb-499e-a323-cd9a1d58b241",
   "metadata": {
    "slideshow": {
     "slide_type": "fragment"
    },
    "tags": []
   },
   "source": [
    "- `pointer-events` can be set to `none` which makes an element unselectable\n",
    "\n",
    "```{danger}\n",
    "It's **pretty hard** to fix elements like this live!\n",
    "```"
   ]
  }
 ],
 "metadata": {
  "kernelspec": {
   "display_name": "Python 3 (ipykernel)",
   "language": "python",
   "name": "python3"
  },
  "language_info": {
   "codemirror_mode": {
    "name": "ipython",
    "version": 3
   },
   "file_extension": ".py",
   "mimetype": "text/x-python",
   "name": "python",
   "nbconvert_exporter": "python",
   "pygments_lexer": "ipython3",
   "version": "3.10.6"
  }
 },
 "nbformat": 4,
 "nbformat_minor": 5
}
