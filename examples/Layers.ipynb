{
 "cells": [
  {
   "cell_type": "markdown",
   "id": "88042b49-dba6-4150-9bb4-bf4597b9fcbb",
   "metadata": {},
   "source": [
    "# Layers\n",
    "\n",
    "> Layers provide a data-driven way to customize what's on screen."
   ]
  },
  {
   "cell_type": "markdown",
   "id": "f6e7c90f-9016-4385-a68c-44dec29b6bc3",
   "metadata": {
    "slideshow": {
     "slide_type": "fragment"
    },
    "tags": []
   },
   "source": [
    "- Instead of a `slide`, `subslide` or `fragment`, a cell can be a `layer`"
   ]
  },
  {
   "cell_type": "markdown",
   "id": "1fb76689-8bea-40b0-9dd4-505bdf773e22",
   "metadata": {
    "jupyterlab-deck": {
     "layer": {
      "css": {
       "bottom": 0,
       "width": "100%"
      },
      "scope": "deck"
     }
    },
    "tags": []
   },
   "source": [
    "> Learn more about [jupyterlab-deck](./README.ipynb)"
   ]
  },
  {
   "cell_type": "markdown",
   "id": "a00cd95c-e7ef-4246-b67c-fbabeb13fe7d",
   "metadata": {
    "slideshow": {
     "slide_type": "fragment"
    },
    "tags": []
   },
   "source": [
    "- like `slide_type`, these are defined in _Cell Metadata_\n",
    "  - the previous cell is a layer that becomes visible as soon as _this_ slide part becomes visible"
   ]
  },
  {
   "cell_type": "markdown",
   "id": "b38c9932-a4ce-4322-a377-f01fe5e68b63",
   "metadata": {
    "slideshow": {
     "slide_type": "slide"
    },
    "tags": []
   },
   "source": [
    "## Scope"
   ]
  },
  {
   "cell_type": "markdown",
   "id": "4a6d9fce-91c8-43b9-ac27-b5df0e888cdf",
   "metadata": {
    "tags": []
   },
   "source": [
    "> each layer has a `scope`"
   ]
  },
  {
   "cell_type": "markdown",
   "id": "c1e425bd-7d9f-4791-b300-97a38842f03f",
   "metadata": {
    "slideshow": {
     "slide_type": "fragment"
    },
    "tags": []
   },
   "source": [
    "- the layer from the previous slide had a scope of `deck`, and will be visible on every successive slide"
   ]
  },
  {
   "cell_type": "markdown",
   "id": "8d36c0ed-f1d4-4c0c-a86a-bd8b87eba704",
   "metadata": {
    "jupyterlab-deck": {
     "layer": {
      "css": {
       "right": "0",
       "width": "25%",
       "z-index": 1
      },
      "scope": "fragment"
     }
    }
   },
   "source": [
    "```{note}\n",
    "This is a `fragment`-scoped layer\n",
    "```"
   ]
  },
  {
   "cell_type": "markdown",
   "id": "087a001f-488c-401a-a57c-6688b0d9166f",
   "metadata": {
    "slideshow": {
     "slide_type": "fragment"
    },
    "tags": []
   },
   "source": [
    "- above this cell is a `fragment`-scoped layer, which will only appear while viewing this `fragment`"
   ]
  },
  {
   "cell_type": "markdown",
   "id": "c4edb703-4d34-47f9-a649-f57de684e13c",
   "metadata": {
    "slideshow": {
     "slide_type": "fragment"
    },
    "tags": []
   },
   "source": [
    "- below this cell is a `slide`-scoped layer, which will only appear on the next slide or subslide"
   ]
  },
  {
   "cell_type": "markdown",
   "id": "2126c7c9-03c3-4494-8463-61432446fb8d",
   "metadata": {
    "jupyterlab-deck": {
     "layer": {
      "css": {
       "right": "0",
       "width": "25%",
       "z-index": 1
      },
      "scope": "slide"
     }
    },
    "tags": []
   },
   "source": [
    "```{warning}\n",
    "This is a `slide`-scoped layer\n",
    "```"
   ]
  },
  {
   "cell_type": "markdown",
   "id": "5e8fc3be-bc91-4c6f-a9be-a0d535b219de",
   "metadata": {
    "slideshow": {
     "slide_type": "subslide"
    },
    "tags": []
   },
   "source": [
    "## Another Slide\n",
    "\n",
    "> Nothing to see here"
   ]
  }
 ],
 "metadata": {
  "kernelspec": {
   "display_name": "Python 3 (ipykernel)",
   "language": "python",
   "name": "python3"
  },
  "language_info": {
   "codemirror_mode": {
    "name": "ipython",
    "version": 3
   },
   "file_extension": ".py",
   "mimetype": "text/x-python",
   "name": "python",
   "nbconvert_exporter": "python",
   "pygments_lexer": "ipython3",
   "version": "3.10.6"
  }
 },
 "nbformat": 4,
 "nbformat_minor": 5
}
