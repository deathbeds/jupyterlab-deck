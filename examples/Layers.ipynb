{
 "cells": [
  {
   "cell_type": "markdown",
   "id": "88042b49-dba6-4150-9bb4-bf4597b9fcbb",
   "metadata": {},
   "source": [
    "# Layers\n",
    "\n",
    "> Layers provide a data-driven way to customize what's on screen."
   ]
  },
  {
   "cell_type": "markdown",
   "id": "f6e7c90f-9016-4385-a68c-44dec29b6bc3",
   "metadata": {
    "slideshow": {
     "slide_type": "fragment"
    },
    "tags": []
   },
   "source": [
    "- Instead of a `slideshow.slide_type` like `slide`, `subslide` or `fragment`\n",
    "  - a cell can be a `jupyterlab-deck.layer`"
   ]
  },
  {
   "cell_type": "markdown",
   "id": "a00cd95c-e7ef-4246-b67c-fbabeb13fe7d",
   "metadata": {
    "slideshow": {
     "slide_type": "fragment"
    },
    "tags": []
   },
   "source": [
    "- like `slide_type`, these are defined in _Cell Metadata_\n",
    "  - the next cell is a layer that becomes visible as soon as _this_ fragment becomes visible"
   ]
  },
  {
   "cell_type": "markdown",
   "id": "43e53706-854f-466c-a233-050a430e7f84",
   "metadata": {
    "@deathbeds/jupyterlab-fonts": {
     "styles": {
      "": {
       "body[data-jp-deck-mode='presenting'] &": {
        "bottom": 0,
        "left": 0,
        "margin": "auto",
        "opacity": "0.25",
        "pointer-events": "none",
        "right": 0,
        "top": 0,
        "width": "50%",
        "z-index": -1
       }
      }
     }
    },
    "jupyterlab-deck": {
     "layer": "deck"
    },
    "tags": []
   },
   "source": [
    "<img src=\"./deck.svg\" width=\"100%\">"
   ]
  },
  {
   "cell_type": "markdown",
   "id": "1f91ec04-ce55-4999-ad76-0f7f2c6458e0",
   "metadata": {
    "slideshow": {
     "slide_type": "slide"
    },
    "tags": []
   },
   "source": [
    "## Types of Layers\n",
    "\n",
    "> the background image will be visible on **every** slide in the `deck`, but there are **other types**..."
   ]
  },
  {
   "cell_type": "markdown",
   "id": "ebb40783-7cfd-4e9b-b263-fee814985d88",
   "metadata": {
    "slideshow": {
     "slide_type": "fragment"
    },
    "tags": []
   },
   "source": [
    "| a `layer` of type...    | `deck`   | `stack`          | `slide`                            | `fragment`          |\n",
    "|----------------------:|:---------|:-----------------|:-----------------------------------|:--------------------|\n",
    "| _is visible until..._ | the end  | the next `slide` | the next `slide`<br> or `subslide` | the next `fragment` |"
   ]
  },
  {
   "cell_type": "markdown",
   "id": "2762c08a-6d76-4372-b3a0-0ee2b23e3e54",
   "metadata": {
    "slideshow": {
     "slide_type": "fragment"
    },
    "tags": []
   },
   "source": [
    "- below this cell is a `fragment` layer, which will only appear while viewing **this `fragment`**"
   ]
  },
  {
   "cell_type": "markdown",
   "id": "c042f573-cbaf-45ce-a863-29fa3364e683",
   "metadata": {
    "@deathbeds/jupyterlab-fonts": {
     "styles": {
      "": {
       "body[data-jp-deck-mode='presenting'] &": {
        "right": "0",
        "top": "60%",
        "width": "25%",
        "z-index": 1
       }
      }
     }
    },
    "jupyterlab-deck": {
     "layer": "fragment"
    },
    "tags": []
   },
   "source": [
    "```{note}\n",
    "`fragment` layer with a `top` of `60%`\n",
    "```"
   ]
  },
  {
   "cell_type": "markdown",
   "id": "81e61f68-25ab-41fb-99b4-c498869d683a",
   "metadata": {
    "slideshow": {
     "slide_type": "fragment"
    },
    "tags": []
   },
   "source": [
    "- below this cell is a `slide` layer, which will only appear on the **next slide** or **subslide**"
   ]
  },
  {
   "cell_type": "markdown",
   "id": "7f0da6ff-9da5-453c-8515-88fabeb03582",
   "metadata": {
    "@deathbeds/jupyterlab-fonts": {
     "styles": {
      "": {
       "body[data-jp-deck-mode='presenting'] &": {
        "right": "0",
        "top": "30%",
        "width": "25%",
        "z-index": 1
       }
      }
     }
    },
    "jupyterlab-deck": {
     "layer": "slide"
    },
    "tags": []
   },
   "source": [
    "```{warning}\n",
    "`slide` layer with a `top` of `30%`\n",
    "```"
   ]
  },
  {
   "cell_type": "markdown",
   "id": "41b9774a-4a77-4680-b99d-5436f00b7011",
   "metadata": {
    "slideshow": {
     "slide_type": "fragment"
    },
    "tags": []
   },
   "source": [
    "- below this cell is a `stack` layer\n",
    "  - it will show from here until the next `slide`"
   ]
  },
  {
   "cell_type": "markdown",
   "id": "f70bb81f-10f8-4b85-b86c-44f58fba188d",
   "metadata": {
    "@deathbeds/jupyterlab-fonts": {
     "styles": {
      "": {
       "body[data-jp-deck-mode='presenting'] &": {
        "right": "0",
        "top": "5%",
        "width": "25%",
        "z-index": 1
       }
      }
     }
    },
    "jupyterlab-deck": {
     "layer": "stack"
    },
    "tags": []
   },
   "source": [
    "```{hint}\n",
    "`stack` layer with a `top` of `5%`\n",
    "```"
   ]
  },
  {
   "cell_type": "markdown",
   "id": "5e8fc3be-bc91-4c6f-a9be-a0d535b219de",
   "metadata": {
    "slideshow": {
     "slide_type": "subslide"
    },
    "tags": []
   },
   "source": [
    "## Another Slide\n",
    "\n",
    "> Nothing to see here, other than a few layers"
   ]
  },
  {
   "cell_type": "markdown",
   "id": "b9c41a6b-0bce-4712-86b6-f390faa5e5c9",
   "metadata": {
    "slideshow": {
     "slide_type": "slide"
    },
    "tags": []
   },
   "source": [
    "# Layer Style\n",
    "\n",
    "> Some key `@deathbeds/jupyterlab-fonts.styles` properties control the **position** of layers:"
   ]
  },
  {
   "cell_type": "markdown",
   "id": "95e9e3a0-983d-4df9-b275-9bea7480aabd",
   "metadata": {
    "slideshow": {
     "slide_type": "fragment"
    },
    "tags": []
   },
   "source": [
    "- `top`, `bottom`, `right`, `left`, `width` and `height` do what they say\n",
    "  - using relative values, `0` to `100%`, is the most *reliable"
   ]
  },
  {
   "cell_type": "markdown",
   "id": "e869fc9f-8149-48f3-8c22-b3658a23b83d",
   "metadata": {
    "slideshow": {
     "slide_type": "fragment"
    },
    "tags": []
   },
   "source": [
    "- set `z-index` to change how items **stack**"
   ]
  },
  {
   "cell_type": "markdown",
   "id": "7c6b7905-e66c-4335-9327-b1ba557271bc",
   "metadata": {
    "slideshow": {
     "slide_type": "fragment"
    },
    "tags": []
   },
   "source": [
    "- set `margin` to `auto` to **center** things"
   ]
  },
  {
   "cell_type": "markdown",
   "id": "ecc0c25e-51fb-499e-a323-cd9a1d58b241",
   "metadata": {
    "slideshow": {
     "slide_type": "fragment"
    },
    "tags": []
   },
   "source": [
    "- `pointer-events` can be set to `\"none\"` which makes an element **non-interactive**\n",
    "\n",
    "```{danger}\n",
    "It's **pretty hard** to fix elements like this while presenting!\n",
    "```"
   ]
  },
  {
   "cell_type": "markdown",
   "id": "4770b931-336e-467b-8c74-7ad2169802ff",
   "metadata": {
    "@deathbeds/jupyterlab-fonts": {
     "styles": {
      "": {
       "body[data-jp-deck-mode='presenting'] &": {
        "zoom": "200%"
       }
      }
     }
    },
    "slideshow": {
     "slide_type": "subslide"
    },
    "tags": []
   },
   "source": [
    "## More Style\n",
    "\n",
    "> `@deathbeds/jupyterlab-deck.styles` metadata works with normal slides, too."
   ]
  },
  {
   "cell_type": "markdown",
   "id": "2b365b99-8c62-4a0e-9179-bb9b3337aa14",
   "metadata": {},
   "source": [
    "```{note}\n",
    "The slide above has `\"zoom\": \"200%\"`... but always remember to crank up your browser zoom, anyway.\n",
    "```"
   ]
  }
 ],
 "metadata": {
  "@deathbeds/jupyterlab-fonts": {
   "styles": {}
  },
  "foo": "x",
  "kernelspec": {
   "display_name": "Python 3 (ipykernel)",
   "language": "python",
   "name": "python3"
  },
  "language_info": {
   "codemirror_mode": {
    "name": "ipython",
    "version": 3
   },
   "file_extension": ".py",
   "mimetype": "text/x-python",
   "name": "python",
   "nbconvert_exporter": "python",
   "pygments_lexer": "ipython3",
   "version": "3.10.6"
  }
 },
 "nbformat": 4,
 "nbformat_minor": 5
}
