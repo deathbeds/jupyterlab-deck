{
 "cells": [
  {
   "cell_type": "markdown",
   "id": "b9ef2cd6-b100-4e32-856e-831034e5c829",
   "metadata": {
    "slideshow": {
     "slide_type": "slide"
    },
    "tags": []
   },
   "source": [
    "# Welcome to `jupyter-deck`\n",
    "\n",
    "> `jupyter-deck` presents your _Notebooks_, _Files_, and other activities as a two-dimensional grid of _slides_."
   ]
  },
  {
   "cell_type": "markdown",
   "id": "272e87d2-ddc0-4a4b-800c-4a3ab17f1dd7",
   "metadata": {},
   "source": [
    "```{hint} \n",
    "To move around, use:\n",
    "- **arrow keys** on your keyboard <kbd>→</kbd>, <kbd>↓</kbd>, <kbd>←</kbd>, <kbd>↑</kbd>\n",
    "- or the **on-screen remote**\n",
    "```"
   ]
  },
  {
   "cell_type": "markdown",
   "id": "10231e4c-f9b0-484b-b77c-28aff72c8408",
   "metadata": {},
   "source": [
    "```{note}\n",
    "Before we go any further, **PRETTY PLEASE**\n",
    "- set your browser to view this page full-screen with <kbd>f11</kbd>, or from your browser's menu\n",
    "- crank up the browser zoom with <kbd>ctrl+</kbd> to something comfortable to you (maybe around 200%)\n",
    "```"
   ]
  },
  {
   "cell_type": "markdown",
   "id": "3a28c8b0-0aa5-4dd1-b496-91eb1d27bdbc",
   "metadata": {
    "slideshow": {
     "slide_type": "subslide"
    },
    "tags": []
   },
   "source": [
    "## A Brief History of Presenting with Jupyter"
   ]
  },
  {
   "cell_type": "markdown",
   "id": "705145ae-3f4c-4f94-900a-d19f08dd8959",
   "metadata": {
    "slideshow": {
     "slide_type": "fragment"
    },
    "tags": []
   },
   "source": [
    "- presenting from a \"cold\" Jupyter UI is often **distracting** for the audience\n",
    "  - much of this is based on content (walls of text) and presenter choices (browser/OS chrome, zoom)\n",
    "  - but there **had** to be a **better way**"
   ]
  },
  {
   "cell_type": "markdown",
   "id": "d0f7218f-800a-409d-a727-a99f9edf333e",
   "metadata": {
    "slideshow": {
     "slide_type": "fragment"
    },
    "tags": []
   },
   "source": [
    "- a `reveal.js` template was added to `nbconvert` for **static** representations of slides\n",
    "  - it normalized the `slide_type` metadata as part of the Jupyter Notebook JSON Schema"
   ]
  },
  {
   "cell_type": "markdown",
   "id": "fe1b7f47-592d-4576-b888-f819cda71788",
   "metadata": {
    "slideshow": {
     "slide_type": "fragment"
    },
    "tags": []
   },
   "source": [
    "- `RISE` built on this behavior, allowing inline **editing** and **execution**"
   ]
  },
  {
   "cell_type": "markdown",
   "id": "d4cc44a2-82f5-46b4-8909-aef6437e25be",
   "metadata": {
    "slideshow": {
     "slide_type": "fragment"
    },
    "tags": []
   },
   "source": [
    "- **however**, `reveal.js` (and therefore `RISE`) have **extremely opinionated** CSS and DOM\n",
    "  - these have been hard to adapt to the multi-document JupyterLab UI"
   ]
  },
  {
   "cell_type": "markdown",
   "id": "13862474-2149-43f0-be69-f293b5584a7d",
   "metadata": {
    "slideshow": {
     "slide_type": "fragment"
    },
    "tags": []
   },
   "source": [
    "- `nbpresent` went _way_ off the beaten path, offering **extensive** layout and theme options\n",
    "  - while somewhat compatible with `nbconvert`'s metadata, it's advanced features required unique metadata\n",
    "  - it has now been mostly abandoned"
   ]
  },
  {
   "cell_type": "markdown",
   "id": "f0e110af-0c52-4743-b895-87004add6236",
   "metadata": {
    "slideshow": {
     "slide_type": "fragment"
    },
    "tags": []
   },
   "source": [
    "- `jupyterlab-deck` is an attempt to combine the **presentation-focused** features of `RISE` with the **full JupyterLab** experience"
   ]
  },
  {
   "cell_type": "markdown",
   "id": "8c7c3ba2-6741-4be8-b0b5-677c7f50afd7",
   "metadata": {
    "slideshow": {
     "slide_type": "slide"
    },
    "tags": []
   },
   "source": [
    "## What is a slide?"
   ]
  },
  {
   "cell_type": "markdown",
   "id": "2f8b3ef7-3757-4647-9156-3c35e4c65d95",
   "metadata": {
    "slideshow": {
     "slide_type": "fragment"
    },
    "tags": []
   },
   "source": [
    "- Each _slide_ is made of one or more _cells_"
   ]
  },
  {
   "cell_type": "markdown",
   "id": "657f0a26-57a7-4a63-8c9c-d79fecd25a78",
   "metadata": {
    "slideshow": {
     "slide_type": "fragment"
    },
    "tags": []
   },
   "source": [
    "- Each cell can be of type _markdown_ (like this one)..."
   ]
  },
  {
   "cell_type": "code",
   "execution_count": null,
   "id": "fac58140-6d60-4ad9-afa9-f5a5ec2ab9ef",
   "metadata": {
    "slideshow": {
     "slide_type": "fragment"
    },
    "tags": []
   },
   "outputs": [],
   "source": [
    "print(\"_code_, like this one\")"
   ]
  },
  {
   "cell_type": "raw",
   "id": "db3e22f6-57ba-4fa1-a667-1d37083eee01",
   "metadata": {
    "slideshow": {
     "slide_type": "fragment"
    },
    "tags": []
   },
   "source": [
    "  - or _raw_, like this one\n",
    "    - whatever these are good for"
   ]
  },
  {
   "cell_type": "markdown",
   "id": "cd1e94b4-f43a-4073-b34d-9e24eb07aaf8",
   "metadata": {
    "slideshow": {
     "slide_type": "slide"
    },
    "tags": []
   },
   "source": [
    "# Slide Types\n",
    "\n",
    "> Changing the _Slide Type_ in the _Property Inspector_ controls how slides are displayed. "
   ]
  },
  {
   "cell_type": "markdown",
   "id": "8c549fcb-431f-4f13-816c-8dc11e3fe410",
   "metadata": {
    "slideshow": {
     "slide_type": "fragment"
    },
    "tags": []
   },
   "source": [
    "- A `slide` cell gets its own, dedicated view"
   ]
  },
  {
   "cell_type": "markdown",
   "id": "1ffa1762-5c6b-41ba-9ec1-b41d105b0052",
   "metadata": {
    "slideshow": {
     "slide_type": "fragment"
    },
    "tags": []
   },
   "source": [
    "- a `fragment` slide (like this one) are gradually revealed"
   ]
  },
  {
   "cell_type": "markdown",
   "id": "16980d54-cc4f-43b8-9ce1-3f75548a423c",
   "metadata": {
    "slideshow": {
     "slide_type": "fragment"
    },
    "tags": []
   },
   "source": [
    "- A `subslide` uses an alternate axis, sort of like a \"backup\" slide (more about this later!)"
   ]
  },
  {
   "cell_type": "markdown",
   "id": "a65735d7-e8cc-4f6c-a248-7f48ae8b04a0",
   "metadata": {
    "slideshow": {
     "slide_type": "fragment"
    },
    "tags": []
   },
   "source": [
    "- A `notes` slide will only be shown in the off-screen viewer (there's one below this)"
   ]
  },
  {
   "cell_type": "markdown",
   "id": "ad253ca4-fd66-419e-9571-81c6edc1be06",
   "metadata": {
    "slideshow": {
     "slide_type": "notes"
    },
    "tags": []
   },
   "source": [
    "> Here are some helpful notes!"
   ]
  },
  {
   "cell_type": "markdown",
   "id": "297a31bf-2119-416f-82ed-b32aac939f55",
   "metadata": {
    "slideshow": {
     "slide_type": "fragment"
    },
    "tags": []
   },
   "source": [
    "- A `skip` slide will not be shown at all (there's one below this)"
   ]
  },
  {
   "cell_type": "markdown",
   "id": "6ed82c43-4aa6-4e25-8012-66d1f572924e",
   "metadata": {
    "slideshow": {
     "slide_type": "skip"
    },
    "tags": []
   },
   "source": [
    "> Carry on, nothing to see here"
   ]
  },
  {
   "cell_type": "markdown",
   "id": "826636f2-316b-4be7-bd2c-5e2ccfae8880",
   "metadata": {
    "slideshow": {
     "slide_type": "slide"
    },
    "tags": []
   },
   "source": [
    "# Multiple Documents\n",
    "\n",
    "- You can use hyperlinks to go to [other documents](./README.md)\n",
    "  - Links within the same document don't _quite_ work yet"
   ]
  },
  {
   "cell_type": "markdown",
   "id": "b8ef01e5-f644-4fc5-b778-8a1903c383e5",
   "metadata": {
    "slideshow": {
     "slide_type": "slide"
    },
    "tags": []
   },
   "source": [
    "# Widgets\n",
    "\n",
    "Jupyter Widgets blur the line between **code** and **output**."
   ]
  },
  {
   "cell_type": "code",
   "execution_count": null,
   "id": "1c65020c-f803-47a7-8ec8-9573a72b6fdc",
   "metadata": {
    "slideshow": {
     "slide_type": "fragment"
    },
    "tags": []
   },
   "outputs": [],
   "source": [
    "try: await(__import__(\"piplite\")).install(\"ipywidgets\")\n",
    "except ImportError: pass\n",
    "import ipywidgets as W\n",
    "W.HBox([\n",
    "    W.FloatSlider(description=i, orientation=\"vertical\") \n",
    "    for i in \"abcd\"\n",
    "])"
   ]
  },
  {
   "cell_type": "markdown",
   "id": "1b39ca81-98bf-4aac-905c-2f45b9de95c3",
   "metadata": {
    "slideshow": {
     "slide_type": "slide"
    },
    "tags": []
   },
   "source": [
    "# Themes\n",
    "\n",
    "`jupyterlab-deck` uses the JupyterLab theme system. Themes can even be changed _on the fly_."
   ]
  },
  {
   "cell_type": "code",
   "execution_count": null,
   "id": "05e90e5d-bd3c-4896-ba4c-38dda5af467a",
   "metadata": {
    "tags": []
   },
   "outputs": [],
   "source": [
    "from IPython.display import HTML\n",
    "[display(HTML(f\"\"\"\n",
    "<button class=\"jp-mod-styled jp-mod-accept\"\n",
    "  data-commandlinker-command=\"apputils:change-theme\" \n",
    "  data-commandlinker-args='{{\"theme\": \"JupyterLab {t}\"}}'>\n",
    "  The {t} Side</button>\"\"\"))\n",
    "for t in [\"Light\", \"Dark\"]];"
   ]
  },
  {
   "cell_type": "markdown",
   "id": "fa79cfcf-0a80-4c02-a582-5634edd87e23",
   "metadata": {
    "slideshow": {
     "slide_type": "fragment"
    },
    "tags": []
   },
   "source": [
    "```{hint}\n",
    "For more themey goodness, try [jupyterlab-fonts](https://github.com/deathbeds/jupyterlab-fonts)\n",
    "```"
   ]
  },
  {
   "cell_type": "markdown",
   "id": "2947a2c9-30c3-4396-adc4-48b8f7e0ea11",
   "metadata": {
    "slideshow": {
     "slide_type": "slide"
    },
    "tags": []
   },
   "source": [
    "# Thanks for trying `jupyter-deck`!"
   ]
  }
 ],
 "metadata": {
  "@deathbeds/jupyterlab-fonts": {
   "styles": {
    ":root": {
     "--jp-code-font-family": "'Fira Code Bold'",
     "--jp-code-font-size": "20px",
     "--jp-content-font-family": "'Sedgwick Ave Display'",
     "--jp-content-font-size1": "18px"
    },
    "@import": "https://tools-static.wmflabs.org/fontcdn/css?0family=Sedgwick+Ave+Display#"
   }
  },
  "kernelspec": {
   "display_name": "Python 3 (ipykernel)",
   "language": "python",
   "name": "python3"
  },
  "language_info": {
   "codemirror_mode": {
    "name": "ipython",
    "version": 3
   },
   "file_extension": ".py",
   "mimetype": "text/x-python",
   "name": "python",
   "nbconvert_exporter": "python",
   "pygments_lexer": "ipython3",
   "version": "3.10.6"
  },
  "toc-autonumbering": false,
  "toc-showcode": true,
  "toc-showmarkdowntxt": false,
  "toc-showtags": false
 },
 "nbformat": 4,
 "nbformat_minor": 5
}
