{
  "metadata": {
    "language_info": {
      "codemirror_mode": {
        "name": "python",
        "version": 3
      },
      "file_extension": ".py",
      "mimetype": "text/x-python",
      "name": "python",
      "nbconvert_exporter": "python",
      "pygments_lexer": "ipython3",
      "version": "3.8"
    },
    "kernelspec": {
      "name": "python",
      "display_name": "Python (Pyodide)",
      "language": "python"
    }
  },
  "nbformat_minor": 4,
  "nbformat": 4,
  "cells": [
    {
      "cell_type": "markdown",
      "source": "# jupyterlab-deck reports\n\n> For documentation, see the [ReadTheDocs] site!\n\n[ReadTheDocs]: https://jupyterlab-deck.rtfd.io",
      "metadata": {
        "slideshow": {
          "slide_type": "slide"
        },
        "tags": []
      }
    },
    {
      "cell_type": "markdown",
      "source": "## Aceptance Tests: Robot Framework\n\n> [Robot Framework][rf] is used with [JupyterLibrary] to test that the system\n> functions as expected in the browser\n\n[rf]: https://robotframework.org\n[JupyterLibrary]: https://robotframework-jupyterlibrary.rtfd.io\n",
      "metadata": {
        "slideshow": {
          "slide_type": "slide"
        },
        "tags": []
      }
    },
    {
      "cell_type": "code",
      "source": "%%html\n<iframe src=\"./robot/log.html\" style=\"width: 99%; height: 70vh; overflow-y: hidden;\">",
      "metadata": {
        "jupyter": {
          "source_hidden": true
        },
        "tags": [],
        "trusted": true
      },
      "execution_count": 12,
      "outputs": [
        {
          "output_type": "display_data",
          "data": {
            "text/plain": "<IPython.core.display.HTML object>",
            "text/html": "<iframe src=\"./nyc/robot/log.html\" style=\"width: 99%; height: 70vh; overflow-y: hidden;\">\n"
          },
          "metadata": {}
        }
      ]
    },
    {
      "cell_type": "markdown",
      "source": "## Frontend Code Coverage: NYC\n\n> After the Robot Framework tests run against code instrumented with [istanbul](https://istanbul.js.org) a coverage report is generated with [nyc](https://github.com/istanbuljs/nyc).",
      "metadata": {
        "slideshow": {
          "slide_type": "slide"
        },
        "tags": []
      }
    },
    {
      "cell_type": "code",
      "source": "%%html\n<iframe src=\"./nyc/index.html\" style=\"width: 99%; height: 70vh; overflow-y: hidden;\">",
      "metadata": {
        "jupyter": {
          "source_hidden": true
        },
        "tags": [],
        "trusted": true
      },
      "execution_count": 11,
      "outputs": [
        {
          "output_type": "display_data",
          "data": {
            "text/plain": "<IPython.core.display.HTML object>",
            "text/html": "<iframe src=\"./nyc/index.html\" style=\"width: 99%; height: 70vh; overflow-y: hidden;\">\n"
          },
          "metadata": {}
        }
      ]
    },
    {
      "cell_type": "markdown",
      "source": "## Unit Tests with Pytest\n\n> [pytest](https://docs.pytest.org) is used to test that the outer python packaging environment works, and [pytest-html](https://pytest-html.readthedocs.io) generates reports.",
      "metadata": {
        "slideshow": {
          "slide_type": "slide"
        },
        "tags": []
      }
    },
    {
      "cell_type": "code",
      "source": "%%html\n<iframe src=\"pytest.html\" style=\"width: 99%; height: 70vh; overflow-y: hidden;\">",
      "metadata": {
        "jupyter": {
          "source_hidden": true
        },
        "tags": [],
        "trusted": true
      },
      "execution_count": 9,
      "outputs": [
        {
          "output_type": "display_data",
          "data": {
            "text/plain": "<IPython.core.display.HTML object>",
            "text/html": "<iframe src=\"pytest.html\" style=\"width: 99%; height: 70vh; overflow-y: hidden;\">\n"
          },
          "metadata": {}
        }
      ]
    },
    {
      "cell_type": "markdown",
      "source": "## Coverage with pytest-cov\n\n> [pytest-cov](https://pytest-cov.readthedocs.io) also runs, generating python coverage.",
      "metadata": {
        "slideshow": {
          "slide_type": "slide"
        },
        "tags": []
      }
    },
    {
      "cell_type": "code",
      "source": "%%html\n<iframe src=\"htmlcov/index.html\" style=\"width: 99%; height: 70vh; overflow-y: hidden;\">",
      "metadata": {
        "jupyter": {
          "source_hidden": true
        },
        "tags": [],
        "trusted": true
      },
      "execution_count": 13,
      "outputs": [
        {
          "output_type": "display_data",
          "data": {
            "text/plain": "<IPython.core.display.HTML object>",
            "text/html": "<iframe src=\"htmlcov/index.html\" style=\"width: 99%; height: 70vh; overflow-y: hidden;\">\n"
          },
          "metadata": {}
        }
      ]
    }
  ]
}
