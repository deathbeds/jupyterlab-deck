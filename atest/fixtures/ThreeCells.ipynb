{
 "cells": [
  {
   "cell_type": "markdown",
   "id": "04bcd031-2ad8-46bd-be20-d7bbc156ff44",
   "metadata": {},
   "source": [
    "# Hello World"
   ]
  },
  {
   "cell_type": "markdown",
   "id": "17db78b6-baf8-4dfa-8d11-f380dec27f5b",
   "metadata": {},
   "source": [
    "- item1234"
   ]
  },
  {
   "cell_type": "markdown",
   "id": "c29415db-0dcd-4424-935b-3372db00b281",
   "metadata": {},
   "source": [
    "- item4567"
   ]
  }
 ],
 "metadata": {
  "kernelspec": {
   "display_name": "Python 3 (ipykernel)",
   "language": "python",
   "name": "python3"
  },
  "language_info": {
   "codemirror_mode": {
    "name": "ipython",
    "version": 3
   },
   "file_extension": ".py",
   "mimetype": "text/x-python",
   "name": "python",
   "nbconvert_exporter": "python",
   "pygments_lexer": "ipython3",
   "version": "3.10.9"
  }
 },
 "nbformat": 4,
 "nbformat_minor": 5
}
